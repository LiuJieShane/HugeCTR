{
 "cells": [
  {
   "cell_type": "code",
   "execution_count": 25,
   "metadata": {},
   "outputs": [],
   "source": [
    "import struct \n",
    "import pickle\n",
    "import numpy as np\n",
    "\n",
    "key_type = 'I32' # {'I64', 'I32'}, default is 'I32'\n",
    "key_type_map = {\"I32\": [\"I\", 4], \"I64\": [\"q\", 8]}\n",
    "\n",
    "embedding_vec_size = 64\n",
    " \n",
    "each_key_size = key_type_map[key_type][1] + key_type_map[key_type][1] + 4 * embedding_vec_size"
   ]
  },
  {
   "cell_type": "code",
   "execution_count": 26,
   "metadata": {},
   "outputs": [
    {
     "name": "stdout",
     "output_type": "stream",
     "text": [
      "-rw-r--r-- 1 root root 43622568 Aug 10 13:32 ./hugeCTR_saved_model/0_sparse_20000.model\r\n"
     ]
    }
   ],
   "source": [
    "!ls -l ./hugeCTR_saved_model/0_sparse_20000.model"
   ]
  },
  {
   "cell_type": "code",
   "execution_count": 27,
   "metadata": {},
   "outputs": [
    {
     "data": {
      "text/plain": [
       "43622568"
      ]
     },
     "execution_count": 27,
     "metadata": {},
     "output_type": "execute_result"
    }
   ],
   "source": [
    "each_key_size * (138493+26744) # file size should match the above"
   ]
  },
  {
   "cell_type": "code",
   "execution_count": 28,
   "metadata": {},
   "outputs": [],
   "source": [
    "embedding_table = [{},{}]\n",
    "\n",
    "with open('./hugeCTR_saved_model/0_sparse_20000.model', 'rb') as file:\n",
    "    try:\n",
    "        while True:\n",
    "            buffer = file.read(each_key_size)\n",
    "            if len(buffer) == 0:\n",
    "                break\n",
    "\n",
    "            key, slot_id = struct.unpack(\"2\" + key_type_map[key_type][0], \n",
    "                                         buffer[0: 2*key_type_map[key_type][1]])\n",
    "            values = struct.unpack(str(embedding_vec_size) + \"f\", buffer[2*key_type_map[key_type][1]: ])\n",
    "\n",
    "            if slot_id==0:\n",
    "                embedding_table[slot_id][key] = values\n",
    "            else:\n",
    "                embedding_table[slot_id][key-138493] = values\n",
    "    except BaseException as error:\n",
    "        print(error)"
   ]
  },
  {
   "cell_type": "code",
   "execution_count": 29,
   "metadata": {},
   "outputs": [
    {
     "data": {
      "text/plain": [
       "138493"
      ]
     },
     "execution_count": 29,
     "metadata": {},
     "output_type": "execute_result"
    }
   ],
   "source": [
    "len(embedding_table[0])"
   ]
  },
  {
   "cell_type": "code",
   "execution_count": 30,
   "metadata": {},
   "outputs": [
    {
     "data": {
      "text/plain": [
       "26744"
      ]
     },
     "execution_count": 30,
     "metadata": {},
     "output_type": "execute_result"
    }
   ],
   "source": [
    "len(embedding_table[1])"
   ]
  },
  {
   "cell_type": "code",
   "execution_count": 31,
   "metadata": {},
   "outputs": [],
   "source": [
    "item_embedding = np.zeros((len(embedding_table[1]), embedding_vec_size), dtype='float')\n",
    "for i in range(len(embedding_table[1])):\n",
    "    item_embedding[i] = embedding_table[1][i]"
   ]
  },
  {
   "cell_type": "markdown",
   "metadata": {},
   "source": [
    "# Nearest neighbor query"
   ]
  },
  {
   "cell_type": "code",
   "execution_count": 32,
   "metadata": {},
   "outputs": [],
   "source": [
    "from scipy.spatial.distance import cdist\n",
    "\n",
    "def find_similar_movies(nn_movie_id, item_embedding, k=10, metric=\"cosine\"):\n",
    "    #find the top K similar items according to one of the distance metric: cosine or euclidean\n",
    "    sim = 1-cdist(item_embedding, item_embedding[nn_movie_id].reshape(1, -1), metric=metric)\n",
    "   \n",
    "    return sim.squeeze().argsort()[-k:][::-1]"
   ]
  },
  {
   "cell_type": "code",
   "execution_count": 33,
   "metadata": {},
   "outputs": [
    {
     "name": "stdout",
     "output_type": "stream",
     "text": [
      "Query:  Toy Story (1995) Adventure|Animation|Children|Comedy|Fantasy\n",
      "Similar movies: \n",
      "1 Toy Story (1995) Adventure|Animation|Children|Comedy|Fantasy\n",
      "93988 North & South (2004) Drama|Romance\n",
      "130089 Crazy Beautiful You (2015) (no genres listed)\n",
      "31424 Alone in the Dark (2005) Action|Horror|Sci-Fi|Thriller\n",
      "58783 Youth Without Youth (2007) Drama|Romance|Sci-Fi\n",
      "118816 Public Sex (2009) Comedy|Drama\n",
      "111993 Minuscule: Valley of the Lost Ants (Minuscule - La vallée des fourmis perdues) (2013) Adventure|Animation|Children\n",
      "479 Judgment Night (1993) Action|Crime|Thriller\n",
      "33168 Jiminy Glick in La La Wood (2004) Comedy|Mystery\n",
      "80574 Saratoga Trunk (1945) Drama|Romance\n"
     ]
    }
   ],
   "source": [
    "with open('./mappings.pickle', 'rb') as handle:\n",
    "    movies_mapping = pickle.load(handle)[\"items\"]\n",
    "\n",
    "nn_to_movies = movies_mapping\n",
    "movies_to_nn = {}\n",
    "for i in range(len(movies_mapping)):\n",
    "    movies_to_nn[movies_mapping[i]] = i\n",
    "\n",
    "import pandas as pd\n",
    "movies = pd.read_csv(\"./data/ml-20m/movies.csv\", index_col=\"movieId\")\n",
    "\n",
    "\n",
    "#find nearest neighbor\n",
    "movie_ID = 1\n",
    "print(\"Query: \", movies.loc[movie_ID][\"title\"], movies.loc[movie_ID][\"genres\"])\n",
    "\n",
    "print(\"Similar movies: \")\n",
    "similar_movies = find_similar_movies(movies_to_nn[movie_ID], item_embedding)\n",
    "\n",
    "for i in similar_movies:\n",
    "    print(nn_to_movies[i], movies.loc[nn_to_movies[i]][\"title\"], movies.loc[nn_to_movies[i]][\"genres\"])"
   ]
  },
  {
   "cell_type": "code",
   "execution_count": 34,
   "metadata": {},
   "outputs": [
    {
     "name": "stdout",
     "output_type": "stream",
     "text": [
      "Query:  Star Wars: Episode V - The Empire Strikes Back (1980) Action|Adventure|Sci-Fi\n",
      "Similar movies: \n",
      "1196 Star Wars: Episode V - The Empire Strikes Back (1980) Action|Adventure|Sci-Fi\n",
      "4060 Love Field (1992) Drama\n",
      "7024 Salo, or The 120 Days of Sodom (Salò o le 120 giornate di Sodoma) (1976) Drama\n",
      "26603 Prince of Darkness (1987) Fantasy|Horror|Sci-Fi|Thriller\n",
      "25977 Abbott and Costello Meet Dr. Jekyll and Mr. Hyde (1953) Comedy|Horror|Sci-Fi\n",
      "8816 Speedway (1968) Action\n",
      "110004 Next Man, The (1976) Action|Thriller\n",
      "112749 And So It Goes (2014) Comedy|Drama|Romance\n",
      "113976 Slow Southern Steel (2011) Documentary\n",
      "1779 Sphere (1998) Sci-Fi|Thriller\n"
     ]
    }
   ],
   "source": [
    "movie_ID = 1196\n",
    "print(\"Query: \", movies.loc[movie_ID][\"title\"], movies.loc[movie_ID][\"genres\"])\n",
    "\n",
    "print(\"Similar movies: \")\n",
    "similar_movies = find_similar_movies(movies_to_nn[movie_ID], item_embedding)\n",
    "\n",
    "for i in similar_movies:\n",
    "    print(nn_to_movies[i], movies.loc[nn_to_movies[i]][\"title\"], movies.loc[nn_to_movies[i]][\"genres\"])"
   ]
  },
  {
   "cell_type": "code",
   "execution_count": 35,
   "metadata": {},
   "outputs": [
    {
     "data": {
      "text/plain": [
       "(26744, 64)"
      ]
     },
     "execution_count": 35,
     "metadata": {},
     "output_type": "execute_result"
    }
   ],
   "source": [
    "item_embedding.shape"
   ]
  },
  {
   "cell_type": "code",
   "execution_count": 36,
   "metadata": {},
   "outputs": [
    {
     "data": {
      "text/plain": [
       "138493"
      ]
     },
     "execution_count": 36,
     "metadata": {},
     "output_type": "execute_result"
    }
   ],
   "source": [
    "len(embedding_table[0].keys())"
   ]
  },
  {
   "cell_type": "code",
   "execution_count": null,
   "metadata": {},
   "outputs": [],
   "source": []
  }
 ],
 "metadata": {
  "kernelspec": {
   "display_name": "Python 3",
   "language": "python",
   "name": "python3"
  },
  "language_info": {
   "codemirror_mode": {
    "name": "ipython",
    "version": 3
   },
   "file_extension": ".py",
   "mimetype": "text/x-python",
   "name": "python",
   "nbconvert_exporter": "python",
   "pygments_lexer": "ipython3",
   "version": "3.6.9"
  }
 },
 "nbformat": 4,
 "nbformat_minor": 2
}
